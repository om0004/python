{
 "cells": [
  {
   "cell_type": "code",
   "execution_count": 2,
   "metadata": {},
   "outputs": [
    {
     "name": "stdout",
     "output_type": "stream",
     "text": [
      "rahul 40\n",
      "shivam 78\n",
      "tarun 85\n",
      "vishesh 86\n",
      "om 87\n"
     ]
    }
   ],
   "source": [
    "d={'om':87,'tarun':85,'rahul':40,'shivam':78,'vishesh':86}\n",
    "l=[]\n",
    "for k,v in d.items():\n",
    "    l.append((v,k))\n",
    "l.sort()\n",
    "for k,v in l:\n",
    "    print(v,k)"
   ]
  }
 ],
 "metadata": {
  "kernelspec": {
   "display_name": "Python 3",
   "language": "python",
   "name": "python3"
  },
  "language_info": {
   "codemirror_mode": {
    "name": "ipython",
    "version": 3
   },
   "file_extension": ".py",
   "mimetype": "text/x-python",
   "name": "python",
   "nbconvert_exporter": "python",
   "pygments_lexer": "ipython3",
   "version": "3.9.0"
  }
 },
 "nbformat": 4,
 "nbformat_minor": 4
}
