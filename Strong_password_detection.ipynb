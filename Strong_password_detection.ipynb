{
 "cells": [
  {
   "cell_type": "code",
   "execution_count": 12,
   "metadata": {},
   "outputs": [
    {
     "name": "stdout",
     "output_type": "stream",
     "text": [
      "Enter your password:WhatisGoingOn1234\n",
      "verified\n"
     ]
    }
   ],
   "source": [
    "'''\n",
    "A strong password is defined as one that is at\n",
    "least eight characters long, contains both uppercase and lowercase characters, and has at least one digit\n",
    "'''\n",
    "import re\n",
    "def test(a):\n",
    "    case1=re.compile(r'.*[A-Z].*')\n",
    "    case2=re.compile(r'.*[a-z].*')\n",
    "    case3=re.compile(r'.*\\d.*')\n",
    "    if(len(a)>8 and case1.search(a) and case2.search(a) and case3.search(a)):\n",
    "        print(\"verified\")\n",
    "    else:\n",
    "        print(\"Password not strong\")\n",
    "a=input(\"Enter your password:\")\n",
    "test(a)"
   ]
  },
  {
   "cell_type": "code",
   "execution_count": null,
   "metadata": {},
   "outputs": [],
   "source": []
  }
 ],
 "metadata": {
  "kernelspec": {
   "display_name": "Python 3",
   "language": "python",
   "name": "python3"
  },
  "language_info": {
   "codemirror_mode": {
    "name": "ipython",
    "version": 3
   },
   "file_extension": ".py",
   "mimetype": "text/x-python",
   "name": "python",
   "nbconvert_exporter": "python",
   "pygments_lexer": "ipython3",
   "version": "3.9.0"
  }
 },
 "nbformat": 4,
 "nbformat_minor": 4
}
