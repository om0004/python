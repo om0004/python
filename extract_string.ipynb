{
 "cells": [
  {
   "cell_type": "code",
   "execution_count": 24,
   "metadata": {},
   "outputs": [
    {
     "name": "stdout",
     "output_type": "stream",
     "text": [
      "1.8475000000000001+2\n",
      "1.85\n"
     ]
    }
   ],
   "source": [
    "string='X-DSPAM-Confidence:0.8475'\n",
    "#extract floating number and add 1 to it.\n",
    "num=string.find(':')\n",
    "number=string[num+1:]\n",
    "d=float(number)+1\n",
    "n=2\n",
    "print(\"{0:.{1}f}\".format(d,n))\n",
    "print(round(d,2))"
   ]
  }
 ],
 "metadata": {
  "kernelspec": {
   "display_name": "Python 3",
   "language": "python",
   "name": "python3"
  },
  "language_info": {
   "codemirror_mode": {
    "name": "ipython",
    "version": 3
   },
   "file_extension": ".py",
   "mimetype": "text/x-python",
   "name": "python",
   "nbconvert_exporter": "python",
   "pygments_lexer": "ipython3",
   "version": "3.9.0"
  }
 },
 "nbformat": 4,
 "nbformat_minor": 4
}
