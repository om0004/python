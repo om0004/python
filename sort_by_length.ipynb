{
 "cells": [
  {
   "cell_type": "code",
   "execution_count": 4,
   "metadata": {},
   "outputs": [
    {
     "name": "stdout",
     "output_type": "stream",
     "text": [
      "{5: 'tarun', 2: 'om', 7: 'vishesh', 6: 'shivam'}\n",
      "['om', 'tarun', 'shivam', 'vishesh']\n"
     ]
    }
   ],
   "source": [
    "lst=['tarun','om','vishesh','shivam']\n",
    "d={}\n",
    "for i in lst:\n",
    "    d[len(i)]=i\n",
    "print([d[x] for x in sorted(d)])\n",
    "# or return sorted(lst, key=len)"
   ]
  },
  {
   "cell_type": "code",
   "execution_count": null,
   "metadata": {},
   "outputs": [],
   "source": []
  }
 ],
 "metadata": {
  "kernelspec": {
   "display_name": "Python 3",
   "language": "python",
   "name": "python3"
  },
  "language_info": {
   "codemirror_mode": {
    "name": "ipython",
    "version": 3
   },
   "file_extension": ".py",
   "mimetype": "text/x-python",
   "name": "python",
   "nbconvert_exporter": "python",
   "pygments_lexer": "ipython3",
   "version": "3.9.0"
  }
 },
 "nbformat": 4,
 "nbformat_minor": 4
}
