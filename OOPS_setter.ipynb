{
 "cells": [
  {
   "cell_type": "code",
   "execution_count": 12,
   "metadata": {},
   "outputs": [
    {
     "name": "stdout",
     "output_type": "stream",
     "text": [
      "omverma earns 30000\n",
      "ghajniagarwal earns 20000\n",
      "vermaom@gmail.com\n",
      "ghajniagarwal@gmail.com\n"
     ]
    }
   ],
   "source": [
    "class employee:\n",
    "    def __init__(self,fname,lname,salary):\n",
    "        self.fname=fname\n",
    "        self.lname=lname\n",
    "        self.salary=salary\n",
    "    def __str__(self):\n",
    "        return self.fname+self.lname+\" earns \"+str(self.salary)\n",
    "    @property\n",
    "    def email(self):\n",
    "        return self.fname+self.lname+\"@gmail.com\"\n",
    "    @email.setter\n",
    "    def email(self,email):\n",
    "        self.fname=email.split('@')[0].split('.')[0]\n",
    "        self.lname=email.split('@')[0].split('.')[1]\n",
    "om=employee('om','verma',30000)\n",
    "ghajni=employee('ghajni','agarwal',20000)\n",
    "print(om)\n",
    "print(ghajni)\n",
    "om.email=\"verma.om@gmail.com\"\n",
    "print(om.email)\n",
    "print(ghajni.email)\n",
    "#invert fname and lname for email method\n",
    "\n",
    "\n",
    "        "
   ]
  }
 ],
 "metadata": {
  "kernelspec": {
   "display_name": "Python 3",
   "language": "python",
   "name": "python3"
  },
  "language_info": {
   "codemirror_mode": {
    "name": "ipython",
    "version": 3
   },
   "file_extension": ".py",
   "mimetype": "text/x-python",
   "name": "python",
   "nbconvert_exporter": "python",
   "pygments_lexer": "ipython3",
   "version": "3.9.0"
  }
 },
 "nbformat": 4,
 "nbformat_minor": 4
}
