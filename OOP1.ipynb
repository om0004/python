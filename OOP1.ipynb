{
 "cells": [
  {
   "cell_type": "code",
   "execution_count": 12,
   "metadata": {},
   "outputs": [
    {
     "name": "stdout",
     "output_type": "stream",
     "text": [
      "20000 30000\n",
      "80000 120000\n",
      "160000 240000\n"
     ]
    }
   ],
   "source": [
    "class employee:\n",
    "    increment=2\n",
    "    def __init__(self,name,salary):\n",
    "        self.name=name\n",
    "        self.salary=salary\n",
    "    def increase(self):\n",
    "        self.salary=int(self.salary*self.increment)\n",
    "    def inf(self):\n",
    "        employee.increment=4\n",
    "    @classmethod\n",
    "    def inff(cl):\n",
    "        cl.increment=2\n",
    "om=employee('om',20000)\n",
    "tarun=employee('tarun',30000)\n",
    "print(om.salary,tarun.salary)\n",
    "om.inf()\n",
    "om.increase()\n",
    "tarun.increase()\n",
    "print(om.salary,tarun.salary)\n",
    "employee.inff()\n",
    "tarun.increase()\n",
    "om.increase()\n",
    "print(om.salary,tarun.salary)\n"
   ]
  }
 ],
 "metadata": {
  "kernelspec": {
   "display_name": "Python 3",
   "language": "python",
   "name": "python3"
  },
  "language_info": {
   "codemirror_mode": {
    "name": "ipython",
    "version": 3
   },
   "file_extension": ".py",
   "mimetype": "text/x-python",
   "name": "python",
   "nbconvert_exporter": "python",
   "pygments_lexer": "ipython3",
   "version": "3.9.0"
  }
 },
 "nbformat": 4,
 "nbformat_minor": 4
}
