{
 "cells": [
  {
   "cell_type": "code",
   "execution_count": 7,
   "metadata": {},
   "outputs": [
    {
     "name": "stdout",
     "output_type": "stream",
     "text": [
      "I am thinking of a number between 1 and 20.\n",
      "You have only 6 chances to guess the number.\n",
      "take a guess:12\n",
      "Your guess is too low.\n",
      "take a guess:15\n",
      "good job! You guessed my number in 2 guesses!\n"
     ]
    }
   ],
   "source": [
    "import random\n",
    "print(\"I am thinking of a number between 1 and 20.\")\n",
    "print(\"You have only 6 chances to guess the number.\")\n",
    "number=random.randint(1,20)\n",
    "for guess in range(1,7):\n",
    "    a=eval(input(\"take a guess:\"))\n",
    "    if a<number:\n",
    "        print(\"Your guess is too low.\")\n",
    "    elif a>number:\n",
    "        print(\"Your guess is too high.\")\n",
    "    else:\n",
    "        break\n",
    "if number==a:\n",
    "    print(\"good job! You guessed my number in \"+str(guess)+ ' guesses!')\n",
    "else:\n",
    "    print(\"Nope. the number was \"+str(number))"
   ]
  },
  {
   "cell_type": "code",
   "execution_count": null,
   "metadata": {},
   "outputs": [],
   "source": []
  }
 ],
 "metadata": {
  "kernelspec": {
   "display_name": "Python 3",
   "language": "python",
   "name": "python3"
  },
  "language_info": {
   "codemirror_mode": {
    "name": "ipython",
    "version": 3
   },
   "file_extension": ".py",
   "mimetype": "text/x-python",
   "name": "python",
   "nbconvert_exporter": "python",
   "pygments_lexer": "ipython3",
   "version": "3.9.0"
  }
 },
 "nbformat": 4,
 "nbformat_minor": 4
}
