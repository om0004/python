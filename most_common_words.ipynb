{
 "cells": [
  {
   "cell_type": "code",
   "execution_count": 50,
   "metadata": {},
   "outputs": [
    {
     "name": "stdout",
     "output_type": "stream",
     "text": [
      "topics 7\n",
      "welsh powell algorithm 1\n",
      "walk 1\n",
      "upper bound 1\n",
      "union and laws 1\n",
      "union 1\n",
      "types of graphs 1\n",
      "traversable graph 1\n",
      "transitive 1\n",
      "trail 1\n",
      "e 189\n",
      "i 139\n",
      "t 138\n",
      "r 122\n",
      "o 121\n",
      "a 119\n",
      "n 111\n",
      "s 110\n",
      "p 78\n",
      "m 76\n"
     ]
    }
   ],
   "source": [
    "file=open('C:\\\\Users\\\\omver\\\\Desktop\\\\maths.TXT')\n",
    "j=1\n",
    "d={}\n",
    "for line in file:\n",
    "    for word in line.split(','):\n",
    "        if not word.isspace():\n",
    "            d[word]=d.get(word,0)+1\n",
    "l=[]\n",
    "for k,v in d.items():\n",
    "    l.append((v,k))\n",
    "l.sort(reverse=True)\n",
    "for k,v in l[:10]:\n",
    "    print(v,k)\n",
    "d1={}\n",
    "file1=open('C:\\\\Users\\\\omver\\\\Desktop\\\\maths.TXT')\n",
    "for line in file1:\n",
    "    for word in line.split(','):\n",
    "            for char in word:\n",
    "                if not char.isspace():\n",
    "                    d1[char]=d1.get(char,0)+1\n",
    "l1=[]\n",
    "for k,v in d1.items():\n",
    "    l1.append((v,k))\n",
    "l1.sort(reverse=True)\n",
    "for k,v in l1[:10]:\n",
    "    print(v,k)"
   ]
  },
  {
   "cell_type": "code",
   "execution_count": null,
   "metadata": {},
   "outputs": [],
   "source": []
  }
 ],
 "metadata": {
  "kernelspec": {
   "display_name": "Python 3",
   "language": "python",
   "name": "python3"
  },
  "language_info": {
   "codemirror_mode": {
    "name": "ipython",
    "version": 3
   },
   "file_extension": ".py",
   "mimetype": "text/x-python",
   "name": "python",
   "nbconvert_exporter": "python",
   "pygments_lexer": "ipython3",
   "version": "3.9.0"
  }
 },
 "nbformat": 4,
 "nbformat_minor": 4
}
