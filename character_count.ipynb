{
 "cells": [
  {
   "cell_type": "code",
   "execution_count": 1,
   "metadata": {},
   "outputs": [
    {
     "name": "stdout",
     "output_type": "stream",
     "text": [
      "enter a string:my name is om I love Python\n",
      "{'m': 3, 'y': 2, 'n': 2, 'a': 1, 'e': 2, 'i': 1, 's': 1, 'o': 3, 'I': 1, 'l': 1, 'v': 1, 'P': 1, 't': 1, 'h': 1}\n"
     ]
    }
   ],
   "source": [
    "import pyperclip\n",
    "a=input(\"enter a string:\")\n",
    "dict={}\n",
    "for i in a:\n",
    "    if i.isalpha():\n",
    "        dict[i]=dict.get(i,0)+1\n",
    "    else:  \n",
    "        pass\n",
    "print(dict)"
   ]
  }
 ],
 "metadata": {
  "kernelspec": {
   "display_name": "Python 3",
   "language": "python",
   "name": "python3"
  },
  "language_info": {
   "codemirror_mode": {
    "name": "ipython",
    "version": 3
   },
   "file_extension": ".py",
   "mimetype": "text/x-python",
   "name": "python",
   "nbconvert_exporter": "python",
   "pygments_lexer": "ipython3",
   "version": "3.9.0"
  }
 },
 "nbformat": 4,
 "nbformat_minor": 4
}
