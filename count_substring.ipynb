{
 "cells": [
  {
   "cell_type": "code",
   "execution_count": 6,
   "metadata": {},
   "outputs": [
    {
     "name": "stdout",
     "output_type": "stream",
     "text": [
      "abc\n",
      "bcd\n",
      "cdc\n",
      "dcd\n",
      "cdc\n",
      "2\n"
     ]
    }
   ],
   "source": [
    "string=\"abcdcdc\"\n",
    "substring=\"cdc\"\n",
    "count=0\n",
    "sub_length=len(substring)\n",
    "for i in range(len(string)-2):\n",
    "    sub=string[i:sub_length+i]\n",
    "    print(sub)\n",
    "    if sub in substring:\n",
    "        count=count+1\n",
    "print(count)    "
   ]
  }
 ],
 "metadata": {
  "kernelspec": {
   "display_name": "Python 3",
   "language": "python",
   "name": "python3"
  },
  "language_info": {
   "codemirror_mode": {
    "name": "ipython",
    "version": 3
   },
   "file_extension": ".py",
   "mimetype": "text/x-python",
   "name": "python",
   "nbconvert_exporter": "python",
   "pygments_lexer": "ipython3",
   "version": "3.9.0"
  }
 },
 "nbformat": 4,
 "nbformat_minor": 4
}
