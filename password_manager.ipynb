{
 "cells": [
  {
   "cell_type": "code",
   "execution_count": 1,
   "metadata": {},
   "outputs": [
    {
     "name": "stdout",
     "output_type": "stream",
     "text": [
      "No account!\n"
     ]
    }
   ],
   "source": [
    "#! python3\n",
    "password={'chrome':'ejdfrjfrofjrfjfjrfjrfr4d3d34gfd4r45yf','facebook':'zsxxczcdcdcdccsczc'}\n",
    "import sys,pyperclip\n",
    "if len(sys.argv)<2:\n",
    "    print(\"Enter name of website\")\n",
    "    sys.exit()\n",
    "account=sys.argv[1]\n",
    "if account in password:\n",
    "    pyperclip.copy(password[account])\n",
    "    print('Password for '+account+' copied to clipboard.')\n",
    "else:\n",
    "    print('No account!')"
   ]
  },
  {
   "cell_type": "code",
   "execution_count": null,
   "metadata": {},
   "outputs": [],
   "source": []
  }
 ],
 "metadata": {
  "kernelspec": {
   "display_name": "Python 3",
   "language": "python",
   "name": "python3"
  },
  "language_info": {
   "codemirror_mode": {
    "name": "ipython",
    "version": 3
   },
   "file_extension": ".py",
   "mimetype": "text/x-python",
   "name": "python",
   "nbconvert_exporter": "python",
   "pygments_lexer": "ipython3",
   "version": "3.9.0"
  }
 },
 "nbformat": 4,
 "nbformat_minor": 4
}
