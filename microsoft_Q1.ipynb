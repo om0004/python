{
 "cells": [
  {
   "cell_type": "code",
   "execution_count": 36,
   "metadata": {},
   "outputs": [
    {
     "name": "stdout",
     "output_type": "stream",
     "text": [
      "18\n",
      "181\n"
     ]
    }
   ],
   "source": [
    "'''\n",
    "A number is considered perfect if its digits sum up to exactly 10.\n",
    "\n",
    "Given a positive integer n, return the n-th perfect number.\n",
    "\n",
    "For example, given 1, you should return 19. Given 2, you should return 28.\n",
    "'''\n",
    "s=0\n",
    "n=int(input())\n",
    "d=n\n",
    "while n>0:\n",
    "    s=s+n%10\n",
    "    n//=10\n",
    "new=10-s\n",
    "if s<10: \n",
    "    e=str(d)+str(new)\n",
    "    print(int(e))\n",
    "else:\n",
    "    print(d)"
   ]
  }
 ],
 "metadata": {
  "kernelspec": {
   "display_name": "Python 3",
   "language": "python",
   "name": "python3"
  },
  "language_info": {
   "codemirror_mode": {
    "name": "ipython",
    "version": 3
   },
   "file_extension": ".py",
   "mimetype": "text/x-python",
   "name": "python",
   "nbconvert_exporter": "python",
   "pygments_lexer": "ipython3",
   "version": "3.9.0"
  }
 },
 "nbformat": 4,
 "nbformat_minor": 4
}
