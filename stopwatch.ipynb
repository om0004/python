{
 "cells": [
  {
   "cell_type": "code",
   "execution_count": 14,
   "metadata": {},
   "outputs": [
    {
     "name": "stdout",
     "output_type": "stream",
     "text": [
      "press enter to start and lap and q to stop!:\n",
      "\n",
      "lap:1\n",
      "0.99 seconds\n",
      "\n",
      "lap:2\n",
      "1.41 seconds\n",
      "\n",
      "lap:3\n",
      "1.48 seconds\n",
      "\n",
      "lap:4\n",
      "1.45 seconds\n",
      "q\n",
      "lap:5\n",
      "1.5 seconds\n",
      "totaltime:6.83 seconds\n"
     ]
    }
   ],
   "source": [
    "import time\n",
    "a=input(\"press enter to start and lap and q to stop!:\")\n",
    "j=1\n",
    "start1=time.time()\n",
    "while a!='q':\n",
    "    start=time.time()\n",
    "    a=input()\n",
    "    end=time.time()\n",
    "    print(\"lap:\"+str(j))\n",
    "    print(str(round((end-start),2))+\" seconds\")\n",
    "    j=j+1\n",
    "totaltime=round(time.time()-start1,2)\n",
    "print(\"totaltime:\"+str(totaltime)+\" seconds\")"
   ]
  }
 ],
 "metadata": {
  "kernelspec": {
   "display_name": "Python 3",
   "language": "python",
   "name": "python3"
  },
  "language_info": {
   "codemirror_mode": {
    "name": "ipython",
    "version": 3
   },
   "file_extension": ".py",
   "mimetype": "text/x-python",
   "name": "python",
   "nbconvert_exporter": "python",
   "pygments_lexer": "ipython3",
   "version": "3.9.0"
  }
 },
 "nbformat": 4,
 "nbformat_minor": 4
}
